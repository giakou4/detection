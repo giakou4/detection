{
  "cells": [
    {
      "cell_type": "markdown",
      "metadata": {
        "id": "GD9gUQpaBxNa"
      },
      "source": [
        "--------------------------------------------------------------------------------\n",
        "\n",
        "# Created by [Nikolaos G. Giakoumoglou](https://www.iti.gr/iti/people/Nikolaos_Giakoumoglou.html)\n",
        "\n",
        "### Electrical and Computer Engineer\n",
        "\n",
        "Mobile: +30 6906430995 | e-mail: [ngiakoumoglou@gmail.gr](mailto:ngiakoumoglou@gmail.gr) | e-mail: [ngiakoumoglou@hotmail.gr](mailto:ngiakoumoglou@hotmail.gr) |\n",
        "\n",
        "-------------------------------------------------------------------------------"
      ]
    },
    {
      "cell_type": "markdown",
      "metadata": {
        "id": "tZtPsObuY1i3"
      },
      "source": [
        "# YOLOv5\n",
        "\n",
        "This tutorial is based on the [YOLOv5 repository](https://github.com/ultralytics/yolov5) by [Ultralytics](https://www.ultralytics.com/). "
      ]
    },
    {
      "cell_type": "markdown",
      "metadata": {
        "id": "7mGmQbAO5pQb"
      },
      "source": [
        "# 1 Install Dependencies"
      ]
    },
    {
      "cell_type": "code",
      "execution_count": null,
      "metadata": {
        "id": "Ie5uLDH4uzAp"
      },
      "outputs": [],
      "source": [
        "%%capture\n",
        "!git clone https://github.com/ultralytics/yolov5\n",
        "%cd yolov5\n",
        "%pip install -qr requirements.txt \n",
        "\n",
        "!pip install pycocotools\n",
        "!pip install onnx>=1.9.0\n",
        "!pip install roboflow\n",
        "\n",
        "import torch\n",
        "print('Setup complete. Using torch %s %s' % (torch.__version__, torch.cuda.get_device_properties(0) if torch.cuda.is_available() else 'CPU'))"
      ]
    },
    {
      "cell_type": "markdown",
      "metadata": {
        "id": "SDIhrBF0sPaM"
      },
      "source": [
        "# 2 Download Dataset \n",
        "\n",
        "We'll download our dataset from Roboflow. Use the \"**YOLOv5 PyTorch**\" export format. Note that the Ultralytics implementation calls for a YAML file defining where your training and test data is. The Roboflow export also writes this format for us.\n"
      ]
    },
    {
      "cell_type": "code",
      "execution_count": null,
      "metadata": {
        "id": "Knxi2ncxWffW"
      },
      "outputs": [],
      "source": [
        "%%capture\n",
        "from roboflow import Roboflow\n",
        "rf = Roboflow(api_key=\"7EOGxE0Zhj6CaawbEz1J\")\n",
        "project = rf.workspace(\"joseph-nelson\").project(\"mask-wearing\")\n",
        "dataset = project.version(4).download(\"yolov5\")"
      ]
    },
    {
      "cell_type": "markdown",
      "source": [
        "## 2.1 Create custom yaml files for each model"
      ],
      "metadata": {
        "id": "9GbqwUcyeHTq"
      }
    },
    {
      "cell_type": "code",
      "source": [
        "import yaml\n",
        "with open(dataset.location + \"/data.yaml\", 'r') as stream:\n",
        "    num_classes = str(yaml.safe_load(stream)['nc'])"
      ],
      "metadata": {
        "id": "y0z064f6ehR-"
      },
      "execution_count": null,
      "outputs": []
    },
    {
      "cell_type": "code",
      "source": [
        "!cp -r ./models/yolov5n.yaml ./models/custom_yolov5n.yaml\n",
        "!cp -r ./models/yolov5s.yaml ./models/custom_yolov5s.yaml\n",
        "!cp -r ./models/yolov5m.yaml ./models/custom_yolov5m.yaml\n",
        "!cp -r ./models/yolov5l.yaml ./models/custom_yolov5l.yaml\n",
        "!cp -r ./models/yolov5x.yaml ./models/custom_yolov5x.yaml\n",
        "\n",
        "%cd models\n",
        "!sed -i 's/nc: 80/nc: {num_classes}/' custom_yolov5n.yaml\n",
        "!sed -i 's/nc: 80/nc: {num_classes}/' custom_yolov5s.yaml\n",
        "!sed -i 's/nc: 80/nc: {num_classes}/' custom_yolov5m.yaml\n",
        "!sed -i 's/nc: 80/nc: {num_classes}/' custom_yolov5l.yaml\n",
        "!sed -i 's/nc: 80/nc: {num_classes}/' custom_yolov5x.yaml\n",
        "%cd .."
      ],
      "metadata": {
        "id": "YhyY7d6DeJFP"
      },
      "execution_count": null,
      "outputs": []
    },
    {
      "cell_type": "markdown",
      "metadata": {
        "id": "VUOiNLtMP5aG"
      },
      "source": [
        "# 3 Train Custom YOLOv5 Detector\n",
        "\n",
        "To kick off training we running the training command with the following options:\n",
        "\n",
        "* _img_: define input image size\n",
        "* _batch_: determine batch size\n",
        "* _epochs_: define the number of training epochs.\n",
        "* _data_: set the path to our yaml file\n",
        "* _cfg_: specify our model configuration\n",
        "* _weights_: specify a custom path to weights. (Note: you can * download weights from the Ultralytics Google Drive folder)\n",
        "* _name_: result names\n",
        "* _nosave_: only save the final checkpoint\n",
        "* _cache_: cache images for faster training\n",
        "* _hyps_: hyperparameters of training\n",
        "\n"
      ]
    },
    {
      "cell_type": "code",
      "execution_count": null,
      "metadata": {
        "id": "hxAK0u_0UZow"
      },
      "outputs": [],
      "source": [
        "img =   1024#@param {type:\"integer\"}\n",
        "batch =  4#@param {type:\"integer\"}\n",
        "epochs = 300 #@param {type:\"integer\"}\n",
        "cfg = 'models/custom_yolov5n.yaml' #@param [\"models/custom_yolov5n.yaml\", \"models/custom_yolov5s.yaml\", \"models/custom_yolov5m.yaml\", \"models/custom_yolov5l.yaml\", \"models/custom_yolov5x.yaml\"]\n",
        "weights = 'yolov5n.pt' #@param [\"yolov5n.pt\", \"yolov5s.pt\", \"yolov5m.pt\", \"yolov5l.pt\", \"yolov5x.pt\"]\n",
        "optimizer = 'SGD' #@param [\"SGD\", \"Adam\", \"AdamW\"]\n",
        "hyp = 'data/hyps/hyp.scratch-low.yaml' #@param[\"data/hyps/hyp.scratch-low.yaml\", \"data/hyps/hyp.scratch-med.yaml\", \"data/hyps/hyp.scratch-high.yaml\"]\n",
        "name = 'experiment-1' #@param {type:\"string\"}"
      ]
    },
    {
      "cell_type": "code",
      "execution_count": null,
      "metadata": {
        "id": "itwDF5ftVXYn"
      },
      "outputs": [],
      "source": [
        "%%time\n",
        "%cd /content/yolov5/\n",
        "!python train.py --img {img} --batch {batch} --epochs {epochs} --data {dataset.location}/data.yaml --cfg {cfg} --weights {weights} --optimizer {optimizer} --hyp {hyp} --name {name} --cache"
      ]
    },
    {
      "cell_type": "code",
      "execution_count": null,
      "metadata": {
        "colab": {
          "background_save": true
        },
        "id": "4uu0cdYIpWIJ"
      },
      "outputs": [],
      "source": [
        "%load_ext tensorboard\n",
        "%tensorboard --logdir runs"
      ]
    },
    {
      "cell_type": "markdown",
      "metadata": {
        "id": "VIJGLnf9HS9F"
      },
      "source": [
        "# 4 Validate Custom YOLOv5 Detector \n",
        "\n"
      ]
    },
    {
      "cell_type": "code",
      "execution_count": null,
      "metadata": {
        "id": "pcSrDlVIHTHa"
      },
      "outputs": [],
      "source": [
        "!python val.py --weights runs/train/{name}}/weights/best.pt --img {img} --data {dataset.location}/data.yaml --name {name} --task val"
      ]
    }
  ],
  "metadata": {
    "accelerator": "GPU",
    "colab": {
      "collapsed_sections": [
        "7mGmQbAO5pQb"
      ],
      "provenance": [],
      "toc_visible": true
    },
    "kernelspec": {
      "display_name": "Python 3",
      "name": "python3"
    }
  },
  "nbformat": 4,
  "nbformat_minor": 0
}